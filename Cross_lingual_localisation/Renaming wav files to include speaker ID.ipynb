{
 "cells": [
  {
   "cell_type": "code",
   "execution_count": 4,
   "metadata": {},
   "outputs": [],
   "source": [
    "import os\n",
    "import glob\n",
    "\n",
    "wave_path = \"/home/kayode/data/Flickr8k_Yoruba_v2\""
   ]
  },
  {
   "cell_type": "code",
   "execution_count": 7,
   "metadata": {},
   "outputs": [],
   "source": [
    "def rename_file(base_path, speaker_id, utt_id, subset):\n",
    "    # Rename wave files to include the speaker id [S001, S002, ...] and the utterance id (0, 1, 2, 3 or 4)\n",
    "    wave_path = os.path.join(base_path, \"flickr_audio_yoruba_\" + subset)\n",
    "    wav_list = glob.glob(os.path.join(wave_path, \"*\"))\n",
    "    for file in wav_list:\n",
    "        basename = os.path.splitext(os.path.basename(file))[0]\n",
    "        old = os.path.join(wave_path, basename + \".wav\")\n",
    "        new = os.path.join(wave_path, speaker_id + \"_\" + basename + \"_\" + utt_id + \".wav\")\n",
    "        os.rename(old, new)\n",
    "    print(\"Wav files successfully renamed!\")"
   ]
  },
  {
   "cell_type": "code",
   "execution_count": 10,
   "metadata": {},
   "outputs": [
    {
     "name": "stdout",
     "output_type": "stream",
     "text": [
      "Wav files successfully renamed!\n"
     ]
    }
   ],
   "source": [
    "rename_file(wave_path, \"S001\", \"0\", \"dev\")"
   ]
  },
  {
   "cell_type": "code",
   "execution_count": 2,
   "metadata": {},
   "outputs": [],
   "source": [
    "def rename_text_grid_file(base_path, utt_id):\n",
    "    textgrid_path = os.path.join(base_path, \"Flickr8k_alignment\")\n",
    "    textgrid_list = glob.glob(os.path.join(textgrid_path, \"*\"))\n",
    "    for file in textgrid_list:\n",
    "        basename = os.path.splitext(os.path.basename(file))[0]\n",
    "        old = os.path.join(textgrid_path, basename + \".TextGrid\")\n",
    "        new = os.path.join(textgrid_path, basename + \"_\" + utt_id + \".TextGrid\")\n",
    "        os.rename(old, new)\n",
    "    print(\"TextGrid files successfully renamed!\")"
   ]
  },
  {
   "cell_type": "code",
   "execution_count": 5,
   "metadata": {},
   "outputs": [
    {
     "name": "stdout",
     "output_type": "stream",
     "text": [
      "TextGrid files successfully renamed!\n"
     ]
    }
   ],
   "source": [
    "rename_text_grid_file(wave_path, \"0\")"
   ]
  },
  {
   "cell_type": "code",
   "execution_count": null,
   "metadata": {},
   "outputs": [],
   "source": []
  }
 ],
 "metadata": {
  "kernelspec": {
   "display_name": "Python 3 (ipykernel)",
   "language": "python",
   "name": "python3"
  },
  "language_info": {
   "codemirror_mode": {
    "name": "ipython",
    "version": 3
   },
   "file_extension": ".py",
   "mimetype": "text/x-python",
   "name": "python",
   "nbconvert_exporter": "python",
   "pygments_lexer": "ipython3",
   "version": "3.9.7"
  }
 },
 "nbformat": 4,
 "nbformat_minor": 4
}
