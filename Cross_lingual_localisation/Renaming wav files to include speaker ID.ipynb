{
 "cells": [
  {
   "cell_type": "code",
   "execution_count": 17,
   "metadata": {},
   "outputs": [],
   "source": [
    "import os\n",
    "import glob\n",
    "\n",
    "wave_path = \"/home/collarkay/KAYODE/data/Flickr8k_Yoruba_v1\""
   ]
  },
  {
   "cell_type": "code",
   "execution_count": 18,
   "metadata": {},
   "outputs": [],
   "source": [
    "def rename_file(base_path, speaker_id, utt_id, subset):\n",
    "    # Rename wave files to include the speaker id [S001, S002, ...] and the utterance id (0, 1, 2, 3 or 4)\n",
    "    wave_path = os.path.join(base_path, \"flickr_audio_yoruba_\" + subset)\n",
    "    wav_list = glob.glob(os.path.join(wave_path, \"*\"))\n",
    "    for file in wav_list:\n",
    "        basename = os.path.splitext(os.path.basename(file))[0]\n",
    "        old = os.path.join(wave_path, basename + \".wav\")\n",
    "        new = os.path.join(wave_path, speaker_id + \"_\" + basename + \"_\" + utt_id + \".wav\")\n",
    "        os.rename(old, new)\n",
    "    print(\"Wav files successfully renamed!\")"
   ]
  },
  {
   "cell_type": "code",
   "execution_count": 21,
   "metadata": {},
   "outputs": [
    {
     "name": "stdout",
     "output_type": "stream",
     "text": [
      "Wav files successfully renamed!\n"
     ]
    }
   ],
   "source": [
    "\n",
    "rename_file(wave_path, \"S001\", \"0\", \"train\")"
   ]
  }
 ],
 "metadata": {
  "kernelspec": {
   "display_name": "Python 3",
   "language": "python",
   "name": "python3"
  },
  "language_info": {
   "codemirror_mode": {
    "name": "ipython",
    "version": 3
   },
   "file_extension": ".py",
   "mimetype": "text/x-python",
   "name": "python",
   "nbconvert_exporter": "python",
   "pygments_lexer": "ipython3",
   "version": "3.7.6"
  }
 },
 "nbformat": 4,
 "nbformat_minor": 4
}
