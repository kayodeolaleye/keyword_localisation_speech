{
 "cells": [
  {
   "cell_type": "code",
   "execution_count": 1,
   "id": "e13033ce",
   "metadata": {},
   "outputs": [],
   "source": [
    "import os\n",
    "import glob\n",
    "\n",
    "wave_path = \"/home/kayode/data/Flickr8k_Yoruba_v5\"\n",
    "\n",
    "alignment_path = \"/home/kayode/data/Flickr8k_Yoruba_v6/Flickr8k_alignment\""
   ]
  },
  {
   "cell_type": "code",
   "execution_count": 5,
   "id": "fabd3da1",
   "metadata": {},
   "outputs": [],
   "source": [
    "def rename_file(base_path, speaker_id, utt_id, subset):\n",
    "    # Rename wave files to include the speaker id [S001, S002, ...] and the utterance id (0, 1, 2, 3 or 4)\n",
    "    wave_path = os.path.join(base_path, \"flickr_audio_yoruba_\" + subset)\n",
    "    wav_list = glob.glob(os.path.join(wave_path, \"*\"))\n",
    "    for file in wav_list:\n",
    "        basename = os.path.splitext(os.path.basename(file))[0]\n",
    "        old = os.path.join(wave_path, basename + \".wav\")\n",
    "        new = os.path.join(wave_path, speaker_id + \"_\" + basename + \"_\" + utt_id + \".wav\")\n",
    "        os.rename(old, new)\n",
    "    print(\"Wav files successfully renamed!\")"
   ]
  },
  {
   "cell_type": "code",
   "execution_count": 6,
   "id": "baa53086",
   "metadata": {},
   "outputs": [
    {
     "name": "stdout",
     "output_type": "stream",
     "text": [
      "Wav files successfully renamed!\n"
     ]
    }
   ],
   "source": [
    "rename_file(wave_path, \"S001\", \"0\", \"train\")"
   ]
  },
  {
   "cell_type": "code",
   "execution_count": 2,
   "id": "62c1c7a5",
   "metadata": {},
   "outputs": [],
   "source": [
    "def rename_alignment_file():\n",
    "    alignment_path = \"/home/kayode/data/Flickr8k_Yoruba_v6/Flickr8k_alignment\"\n",
    "    alignment_list = glob.glob(os.path.join(alignment_path, \"*.TextGrid\"))\n",
    "    for file in alignment_list:\n",
    "        basename = os.path.splitext(os.path.basename(file))[0]\n",
    "        old = os.path.join(alignment_path, basename + \".TextGrid\")\n",
    "        new = os.path.join(alignment_path, \"new\", basename + \"_\" + \"0\" + \".TextGrid\")\n",
    "        os.rename(old, new)"
   ]
  },
  {
   "cell_type": "code",
   "execution_count": 3,
   "id": "f6eb10fd",
   "metadata": {},
   "outputs": [],
   "source": [
    "rename_alignment_file()"
   ]
  },
  {
   "cell_type": "code",
   "execution_count": null,
   "id": "cce739a8",
   "metadata": {},
   "outputs": [],
   "source": []
  },
  {
   "cell_type": "code",
   "execution_count": 2,
   "id": "bf82d566",
   "metadata": {},
   "outputs": [],
   "source": [
    "import statistics as st"
   ]
  },
  {
   "cell_type": "code",
   "execution_count": 5,
   "id": "16cd2444",
   "metadata": {},
   "outputs": [
    {
     "name": "stdout",
     "output_type": "stream",
     "text": [
      "0.6027713773341714\n",
      "7.666666666666667\n"
     ]
    }
   ],
   "source": [
    "print(st.stdev([7.6, 7.1, 8.3]))\n",
    "print(st.mean([7.6, 7.1, 8.3]))"
   ]
  },
  {
   "cell_type": "code",
   "execution_count": 6,
   "id": "22e38d9e",
   "metadata": {},
   "outputs": [
    {
     "name": "stdout",
     "output_type": "stream",
     "text": [
      "1.7473789896108207\n",
      "6.766666666666667\n"
     ]
    }
   ],
   "source": [
    "print(st.stdev([8.7, 5.3, 6.3]))\n",
    "print(st.mean([8.7, 5.3, 6.3]))"
   ]
  },
  {
   "cell_type": "code",
   "execution_count": 7,
   "id": "19bed014",
   "metadata": {},
   "outputs": [
    {
     "name": "stdout",
     "output_type": "stream",
     "text": [
      "0.4041451884327376\n",
      "22.266666666666666\n"
     ]
    }
   ],
   "source": [
    "print(st.stdev([22.5, 22.5, 21.8]))\n",
    "print(st.mean([22.5, 22.5, 21.8]))"
   ]
  },
  {
   "cell_type": "code",
   "execution_count": 8,
   "id": "15978227",
   "metadata": {},
   "outputs": [
    {
     "name": "stdout",
     "output_type": "stream",
     "text": [
      "1.6743157806499158\n",
      "33.233333333333334\n"
     ]
    }
   ],
   "source": [
    "print(st.stdev([34.2, 34.2, 31.3]))\n",
    "print(st.mean([34.2, 34.2, 31.3]))"
   ]
  },
  {
   "cell_type": "code",
   "execution_count": null,
   "id": "41e02590",
   "metadata": {},
   "outputs": [],
   "source": []
  }
 ],
 "metadata": {
  "kernelspec": {
   "display_name": "Python 3 (ipykernel)",
   "language": "python",
   "name": "python3"
  },
  "language_info": {
   "codemirror_mode": {
    "name": "ipython",
    "version": 3
   },
   "file_extension": ".py",
   "mimetype": "text/x-python",
   "name": "python",
   "nbconvert_exporter": "python",
   "pygments_lexer": "ipython3",
   "version": "3.8.13"
  }
 },
 "nbformat": 4,
 "nbformat_minor": 5
}
